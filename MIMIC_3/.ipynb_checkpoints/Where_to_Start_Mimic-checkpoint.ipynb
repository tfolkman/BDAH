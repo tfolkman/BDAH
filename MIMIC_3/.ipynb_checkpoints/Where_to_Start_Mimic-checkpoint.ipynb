{
 "cells": [
  {
   "cell_type": "markdown",
   "metadata": {},
   "source": [
    "# Update\n",
    "\n",
    "This tutorial was originally written for MIMIC 2, but I have updated the code for MIMIC 3. I have left some of the links which still refer to MIMIC 2 because they still have value.\n",
    "\n",
    "\n",
    "# Where to Start\n",
    "\n",
    "After reading my [Guide to Getting Started with the MIMIC Data](http://nbviewer.ipython.org/github/tfolkman/mimic_data/blob/master/Getting_Started_with_MIMIC_Demo.ipynb) you might be wondering where to start to use the MIMIC data to do your own research. In this notebook I will try and provide some guidance as to how to navigate the MIMIC data. I will discuss the \"most important tables\" and some SQL code to get item ids.\n",
    "\n",
    "Most of this is from the [MIMIC Primer 201](http://criticaldata.mit.edu/scope-of-mimic/) and the [MIMIC Primer 301](http://criticaldata.mit.edu/mimic-primer-201/). I am mostly just providing some code.\n",
    "\n",
    "# Most Important Tables\n",
    "\n",
    "* The **ICU Stay Detail table** has data pertaining to a unique admission to the ICU. This table was removed in MIMIC III, but can be partially re-created using code found below.\n",
    "\n",
    "* The **Chart Events table** contains data on the vital signs that get recorded by clinical staff. This includes blood pressure, body temperature, heart rate, and many more.\n",
    "\n",
    "* Finally, the **Lab Events table** contains data about the specific lab tests that were performed. So if you want information on something like a patient’s serum glucose levels, white blood cell counts, or serum potassium levels, you’d want to use this table.\n",
    "\n",
    "Lets take a quick look at the data in these tables.\n",
    "\n",
    "### Note:\n",
    "For this code to work, you need to fill in values for the dbname, user, and pswd."
   ]
  },
  {
   "cell_type": "code",
   "execution_count": 1,
   "metadata": {
    "collapsed": false
   },
   "outputs": [],
   "source": [
    "import psycopg2\n",
    "import pandas.io.sql as psql\n",
    "import seaborn as sns\n",
    "sns.set(style='ticks', palette='Set2')\n",
    "import matplotlib.pyplot as plt\n",
    "%matplotlib inline\n",
    "from __future__ import division #now division always returns a floating point number\n",
    "\n",
    "dbname = 'mimic'\n",
    "user = 'mimic'\n",
    "pswd = 'mimic'\n",
    "\n",
    "#note: assumes data on localhost\n",
    "\n",
    "db = psycopg2.connect(\"dbname={0} host='localhost' user={1} password={2}\".format(dbname, user, pswd))"
   ]
  },
  {
   "cell_type": "markdown",
   "metadata": {},
   "source": [
    "# ICU Stay Detail\n",
    "This table was removed in MIMIC III, but can be somewhat re-created with the code below (source [here](https://github.com/MIT-LCP/mimic-code/blob/master/demographics/postgres/icustay_details.sql#L8))"
   ]
  },
  {
   "cell_type": "code",
   "execution_count": 2,
   "metadata": {
    "collapsed": false
   },
   "outputs": [
    {
     "name": "stdout",
     "output_type": "stream",
     "text": [
      "Table: icustay_detail\n",
      "\n",
      "Shape: (5, 16)\n",
      "\n",
      "Columns: Index([u'subject_id', u'hadm_id', u'icustay_id', u'gender', u'ethnicity', u'admission_type', u'admittime', u'dischtime', u'hospital_expire_flag', u'hospstay_num', u'first_hosp_stay', u'intime', u'outtime', u'age', u'los_icu', u'icustay_num'], dtype='object')\n"
     ]
    }
   ],
   "source": [
    "icustay_detail = psql.read_sql(\"\"\"\n",
    "with co as (\n",
    "select ie.subject_id, ie.hadm_id, ie.icustay_id\n",
    ", pat.gender\n",
    ", adm.ethnicity\n",
    ", adm.ADMISSION_TYPE\n",
    ", adm.admittime, adm.dischtime\n",
    ", case\n",
    "when adm.deathtime is not null then 'Y'\n",
    "else 'N'\n",
    "end\n",
    "as hospital_expire_flag\n",
    ", row_number() over (partition by ie.subject_id, ie.hadm_id order by ie.intime) as hospstay_num\n",
    ", case\n",
    "when row_number() over (partition by ie.subject_id, ie.hadm_id order by ie.intime) = 1 then 'Y'\n",
    "else 'N'\n",
    "end\n",
    "as first_hosp_stay\n",
    ", ie.intime, ie.outtime\n",
    ", round((EXTRACT(EPOCH FROM (ie.intime-pat.dob)) / 60 / 60 / 24 / 365.242) :: NUMERIC, 4) as Age\n",
    ", round((EXTRACT(EPOCH FROM (ie.outtime - ie.intime)) / 60 / 60 / 24) :: NUMERIC, 4) as LOS_ICU\n",
    ", row_number() over (partition by ie.subject_id, ie.hadm_id order by ie.intime) as icustay_num\n",
    "from mimiciii.icustays ie\n",
    "inner join mimiciii.admissions adm\n",
    "on ie.hadm_id = adm.hadm_id\n",
    "inner join mimiciii.patients pat\n",
    "on ie.subject_id = pat.subject_id\n",
    "where adm.has_chartevents_data = 1\n",
    ")\n",
    "select co.*\n",
    "from co\n",
    "order by co.subject_id, co.admittime, co.intime limit 5;\"\"\", con=db)\n",
    "print(\"Table: icustay_detail\\n\")\n",
    "print(\"Shape: {}\\n\".format(icustay_detail.shape))\n",
    "print(\"Columns: {}\".format(icustay_detail.columns))"
   ]
  },
  {
   "cell_type": "markdown",
   "metadata": {},
   "source": [
    "# Chartevents and Labevents"
   ]
  },
  {
   "cell_type": "code",
   "execution_count": 3,
   "metadata": {
    "collapsed": false
   },
   "outputs": [
    {
     "name": "stdout",
     "output_type": "stream",
     "text": [
      "Table: chartevents\n",
      "\n",
      "Shape: (5, 15)\n",
      "\n",
      "Columns: Index([u'row_id', u'subject_id', u'hadm_id', u'icustay_id', u'itemid', u'charttime', u'storetime', u'cgid', u'value', u'valuenum', u'uom', u'warning', u'error', u'resultstatus', u'stopped'], dtype='object')\n",
      "***********************\n",
      "Table: labevents\n",
      "\n",
      "Shape: (5, 9)\n",
      "\n",
      "Columns: Index([u'row_id', u'subject_id', u'hadm_id', u'itemid', u'charttime', u'value', u'valuenum', u'uom', u'flag'], dtype='object')\n",
      "***********************\n"
     ]
    }
   ],
   "source": [
    "tables = ['chartevents', 'labevents']\n",
    "\n",
    "for table in tables:\n",
    "    table_data = psql.read_sql(\"select * from mimiciii.{} limit 5;\".format(table), con=db)\n",
    "    print(\"Table: {}\\n\".format(table))\n",
    "    print(\"Shape: {}\\n\".format(table_data.shape))\n",
    "    print(\"Columns: {}\".format(table_data.columns))\n",
    "    print(\"***********************\")"
   ]
  },
  {
   "cell_type": "markdown",
   "metadata": {},
   "source": [
    "## Some Observations\n",
    "\n",
    "Above we can see that the ICUSTAY DETAIL table has 16 columns. As you can see from the column names, there are a lot of interesting data in this table. \n",
    "\n",
    "We can see that the CHART EVENTS and LAB EVENTS can be connected to the ICUSTAY DETAIL using the subject_id, icustay_id, and hadm_id variables. \n",
    "\n",
    "Also, both the event tables follow the pattern of an itemid, charttime, and valuenum. The itemid is a number and can be used to look up the description of that event in a dictionary table. For example, the dictionary table for CHART EVENTS is D_ITEMS. If you look up itemid 211 in D_CHARTITEMS you will see that it corresponds to heart rate. Thus, a valuenum with an itemid of 211 in the CHART EVENTS table is a heart rate reading. Nice.\n",
    "\n",
    "But how can we figure out the itemids for our events of interest? The following code will make this process much easier.\n",
    "\n",
    "# Function to get Relevant Item Ids\n",
    "\n",
    "The code I have below pulls from many of the event tables and connects them to their dictionary tables. This code is extremely useful becuase it allows you to provide a search query such as 'temp' and then returns all the itemids with a description that includes your search text. It is also very important to know that an event might have multiple itemids. For example, you can see below that our search for 'temp' returned itemids for temperature in C and F. Once the SQL code runs, I return some stats on the results with the top 10 itemids and a histogram. Hope this little primer on where to start helps you more effectively utilize the MIMIC data.\n",
    "\n",
    "## Pulls from:\n",
    "* Lab Events\n",
    "* Output Events\n",
    "* Input Events (CV and MV)\n",
    "* Chart Events\n",
    "* Procedure Events"
   ]
  },
  {
   "cell_type": "code",
   "execution_count": 4,
   "metadata": {
    "collapsed": false
   },
   "outputs": [],
   "source": [
    "search_query = 'temp'\n",
    "\n",
    "\n",
    "itemids = psql.read_sql(\"\"\"\n",
    "\n",
    "WITH RAW_DATA as (\n",
    "\n",
    "SELECT ev.ITEMID AS ITEMID,\n",
    "    di.LABEL AS LABEL,\n",
    "    'LABEVENTS' AS SOURCE\n",
    "FROM MIMICIII.labevents ev\n",
    "    JOIN MIMICIII.d_labitems di\n",
    "    ON di.ITEMID = ev.ITEMID\n",
    "WHERE upper(di.LABEL) LIKE '%{0}%'\n",
    "\n",
    "UNION ALL\n",
    "\n",
    "SELECT ev.ITEMID AS ITEMID,\n",
    "    di.LABEL AS LABEL,\n",
    "    'OUTPUTEVENTS' AS SOURCE\n",
    "FROM MIMICIII.outputevents ev\n",
    "    JOIN MIMICIII.d_items di\n",
    "    ON di.ITEMID = ev.ITEMID\n",
    "WHERE upper(di.LABEL) LIKE '%{0}%'\n",
    "\n",
    "UNION ALL\n",
    "\n",
    "SELECT ev.ITEMID AS ITEMID,\n",
    "    di.LABEL AS LABEL,\n",
    "    'INPUTEVENTS_CV' AS SOURCE\n",
    "FROM MIMICIII.INPUTEVENTS_CV ev\n",
    "    JOIN MIMICIII.d_items di\n",
    "    ON di.ITEMID = ev.ITEMID\n",
    "WHERE upper(di.LABEL) LIKE '%{0}%'\n",
    "\n",
    "UNION ALL\n",
    "\n",
    "SELECT ev.ITEMID AS ITEMID,\n",
    "    di.LABEL AS LABEL,\n",
    "    'INPUTEVENTS_MV' AS SOURCE\n",
    "FROM MIMICIII.INPUTEVENTS_MV ev\n",
    "    JOIN MIMICIII.d_items di\n",
    "    ON di.ITEMID = ev.ITEMID\n",
    "WHERE upper(di.LABEL) LIKE '%{0}%'\n",
    "\n",
    "UNION ALL\n",
    "\n",
    "SELECT ev.ITEMID AS ITEMID,\n",
    "    di.LABEL AS LABEL,\n",
    "    'CHARTEVENTS' AS SOURCE\n",
    "FROM MIMICIII.chartevents ev\n",
    "    JOIN MIMICIII.d_items di\n",
    "    ON di.ITEMID = ev.ITEMID\n",
    "WHERE upper(di.LABEL) LIKE '%{0}%'\n",
    "\n",
    "UNION ALL\n",
    "\n",
    "SELECT ev.ITEMID AS ITEMID,\n",
    "    di.LABEL AS LABEL,\n",
    "    'PROCEDUREEVENTS' AS SOURCE\n",
    "FROM MIMICIII.procedureevents_mv ev\n",
    "    JOIN MIMICIII.d_items di\n",
    "    ON di.ITEMID = ev.ITEMID\n",
    "WHERE upper(di.LABEL) LIKE '%{0}%'\n",
    ")\n",
    "\n",
    "select itemid, label, source, count(*) as cnt\n",
    "from raw_data\n",
    "group by itemid, label, source\n",
    "order by cnt desc\n",
    "\n",
    ";\n",
    "\n",
    "\"\"\".format(search_query.upper()), con = db)"
   ]
  },
  {
   "cell_type": "code",
   "execution_count": 5,
   "metadata": {
    "collapsed": false
   },
   "outputs": [
    {
     "name": "stdout",
     "output_type": "stream",
     "text": [
      "Shape: (57, 4)\n",
      "*****************\n",
      "CHARTEVENTS        53\n",
      "PROCEDUREEVENTS     3\n",
      "LABEVENTS           1\n",
      "dtype: int64\n",
      "*****************\n",
      "count         57.000000\n",
      "mean      140890.175439\n",
      "std       256311.018219\n",
      "min            1.000000\n",
      "25%          146.000000\n",
      "50%        10051.000000\n",
      "75%       124630.000000\n",
      "max      1045009.000000\n",
      "Name: cnt, dtype: float64\n",
      "*****************\n"
     ]
    },
    {
     "data": {
      "text/html": [
       "<div style=\"max-height:1000px;max-width:1500px;overflow:auto;\">\n",
       "<table border=\"1\" class=\"dataframe\">\n",
       "  <thead>\n",
       "    <tr style=\"text-align: right;\">\n",
       "      <th></th>\n",
       "      <th>itemid</th>\n",
       "      <th>label</th>\n",
       "      <th>source</th>\n",
       "      <th>cnt</th>\n",
       "    </tr>\n",
       "  </thead>\n",
       "  <tbody>\n",
       "    <tr>\n",
       "      <th>0</th>\n",
       "      <td>    674</td>\n",
       "      <td>                               Temp. Site</td>\n",
       "      <td> CHARTEVENTS</td>\n",
       "      <td> 1045009</td>\n",
       "    </tr>\n",
       "    <tr>\n",
       "      <th>1</th>\n",
       "      <td>   3656</td>\n",
       "      <td>                   Temp/Iso/Warmer [Type]</td>\n",
       "      <td> CHARTEVENTS</td>\n",
       "      <td>  803917</td>\n",
       "    </tr>\n",
       "    <tr>\n",
       "      <th>2</th>\n",
       "      <td>    678</td>\n",
       "      <td>                            Temperature F</td>\n",
       "      <td> CHARTEVENTS</td>\n",
       "      <td>  775928</td>\n",
       "    </tr>\n",
       "    <tr>\n",
       "      <th>3</th>\n",
       "      <td>    677</td>\n",
       "      <td>                     Temperature C (calc)</td>\n",
       "      <td> CHARTEVENTS</td>\n",
       "      <td>  774312</td>\n",
       "    </tr>\n",
       "    <tr>\n",
       "      <th>4</th>\n",
       "      <td>   8537</td>\n",
       "      <td> Temp/Iso/Warmer [Temperature, degrees C]</td>\n",
       "      <td> CHARTEVENTS</td>\n",
       "      <td>  725887</td>\n",
       "    </tr>\n",
       "    <tr>\n",
       "      <th>5</th>\n",
       "      <td>   3655</td>\n",
       "      <td>                            Temp Skin [C]</td>\n",
       "      <td> CHARTEVENTS</td>\n",
       "      <td>  533002</td>\n",
       "    </tr>\n",
       "    <tr>\n",
       "      <th>6</th>\n",
       "      <td> 223761</td>\n",
       "      <td>                   Temperature Fahrenheit</td>\n",
       "      <td> CHARTEVENTS</td>\n",
       "      <td>  522143</td>\n",
       "    </tr>\n",
       "    <tr>\n",
       "      <th>7</th>\n",
       "      <td>   3652</td>\n",
       "      <td>                        Temp Axillary [F]</td>\n",
       "      <td> CHARTEVENTS</td>\n",
       "      <td>  461999</td>\n",
       "    </tr>\n",
       "    <tr>\n",
       "      <th>8</th>\n",
       "      <td>    676</td>\n",
       "      <td>                            Temperature C</td>\n",
       "      <td> CHARTEVENTS</td>\n",
       "      <td>  379232</td>\n",
       "    </tr>\n",
       "    <tr>\n",
       "      <th>9</th>\n",
       "      <td>    679</td>\n",
       "      <td>                     Temperature F (calc)</td>\n",
       "      <td> CHARTEVENTS</td>\n",
       "      <td>  376716</td>\n",
       "    </tr>\n",
       "  </tbody>\n",
       "</table>\n",
       "</div>"
      ],
      "text/plain": [
       "   itemid                                     label       source      cnt\n",
       "0     674                                Temp. Site  CHARTEVENTS  1045009\n",
       "1    3656                    Temp/Iso/Warmer [Type]  CHARTEVENTS   803917\n",
       "2     678                             Temperature F  CHARTEVENTS   775928\n",
       "3     677                      Temperature C (calc)  CHARTEVENTS   774312\n",
       "4    8537  Temp/Iso/Warmer [Temperature, degrees C]  CHARTEVENTS   725887\n",
       "5    3655                             Temp Skin [C]  CHARTEVENTS   533002\n",
       "6  223761                    Temperature Fahrenheit  CHARTEVENTS   522143\n",
       "7    3652                         Temp Axillary [F]  CHARTEVENTS   461999\n",
       "8     676                             Temperature C  CHARTEVENTS   379232\n",
       "9     679                      Temperature F (calc)  CHARTEVENTS   376716"
      ]
     },
     "execution_count": 5,
     "metadata": {},
     "output_type": "execute_result"
    }
   ],
   "source": [
    "print(\"Shape: {}\".format(itemids.shape))\n",
    "print(\"*****************\")\n",
    "print(itemids.source.value_counts())\n",
    "print(\"*****************\")\n",
    "print(itemids.cnt.describe())\n",
    "print(\"*****************\")\n",
    "itemids.head(n=10)"
   ]
  },
  {
   "cell_type": "code",
   "execution_count": 6,
   "metadata": {
    "collapsed": false
   },
   "outputs": [
    {
     "data": {
      "image/png": "[encoded data removed]",
      "text/plain": [
       "<matplotlib.figure.Figure at 0x7f0c25bb8b50>"
      ]
     },
     "metadata": {},
     "output_type": "display_data"
    }
   ],
   "source": [
    "plt.hist(itemids.cnt)\n",
    "sns.despine()"
   ]
  }
 ],
 "metadata": {
  "kernelspec": {
   "display_name": "Python 2",
   "language": "python",
   "name": "python2"
  },
  "language_info": {
   "codemirror_mode": {
    "name": "ipython",
    "version": 2
   },
   "file_extension": ".py",
   "mimetype": "text/x-python",
   "name": "python",
   "nbconvert_exporter": "python",
   "pygments_lexer": "ipython2",
   "version": "2.7.10"
  }
 },
 "nbformat": 4,
 "nbformat_minor": 0
}
